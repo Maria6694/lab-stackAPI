{
 "cells": [
  {
   "cell_type": "markdown",
   "metadata": {},
   "source": [
    "# StackAPI\n",
    "\n",
    "#### Import the necessary libraries here:"
   ]
  },
  {
   "cell_type": "code",
   "execution_count": 19,
   "metadata": {},
   "outputs": [],
   "source": [
    "import pandas as pd\n",
    "import numpy as np\n",
    "from stackapi import StackAPI\n",
    "import datetime"
   ]
  },
  {
   "cell_type": "code",
   "execution_count": 20,
   "metadata": {},
   "outputs": [],
   "source": [
    "SITE = StackAPI('stackoverflow')\n",
    "comments = SITE.fetch('comments')"
   ]
  },
  {
   "cell_type": "code",
   "execution_count": 21,
   "metadata": {},
   "outputs": [
    {
     "data": {
      "text/html": [
       "<div>\n",
       "<style scoped>\n",
       "    .dataframe tbody tr th:only-of-type {\n",
       "        vertical-align: middle;\n",
       "    }\n",
       "\n",
       "    .dataframe tbody tr th {\n",
       "        vertical-align: top;\n",
       "    }\n",
       "\n",
       "    .dataframe thead th {\n",
       "        text-align: right;\n",
       "    }\n",
       "</style>\n",
       "<table border=\"1\" class=\"dataframe\">\n",
       "  <thead>\n",
       "    <tr style=\"text-align: right;\">\n",
       "      <th></th>\n",
       "      <th>owner</th>\n",
       "      <th>edited</th>\n",
       "      <th>score</th>\n",
       "      <th>creation_date</th>\n",
       "      <th>post_id</th>\n",
       "      <th>comment_id</th>\n",
       "      <th>reply_to_user</th>\n",
       "    </tr>\n",
       "  </thead>\n",
       "  <tbody>\n",
       "    <tr>\n",
       "      <th>0</th>\n",
       "      <td>{'reputation': 27430, 'user_id': 5836671, 'use...</td>\n",
       "      <td>False</td>\n",
       "      <td>0</td>\n",
       "      <td>1573458894</td>\n",
       "      <td>58797398</td>\n",
       "      <td>103875558</td>\n",
       "      <td>NaN</td>\n",
       "    </tr>\n",
       "    <tr>\n",
       "      <th>1</th>\n",
       "      <td>{'reputation': 189176, 'user_id': 2711488, 'us...</td>\n",
       "      <td>False</td>\n",
       "      <td>0</td>\n",
       "      <td>1573458893</td>\n",
       "      <td>58785153</td>\n",
       "      <td>103875557</td>\n",
       "      <td>NaN</td>\n",
       "    </tr>\n",
       "    <tr>\n",
       "      <th>2</th>\n",
       "      <td>{'reputation': 1460, 'user_id': 11945002, 'use...</td>\n",
       "      <td>False</td>\n",
       "      <td>0</td>\n",
       "      <td>1573458893</td>\n",
       "      <td>58797163</td>\n",
       "      <td>103875556</td>\n",
       "      <td>NaN</td>\n",
       "    </tr>\n",
       "    <tr>\n",
       "      <th>3</th>\n",
       "      <td>{'reputation': 1, 'user_id': 12353737, 'user_t...</td>\n",
       "      <td>False</td>\n",
       "      <td>0</td>\n",
       "      <td>1573458891</td>\n",
       "      <td>58796253</td>\n",
       "      <td>103875555</td>\n",
       "      <td>{'reputation': 7961, 'user_id': 4710527, 'user...</td>\n",
       "    </tr>\n",
       "    <tr>\n",
       "      <th>4</th>\n",
       "      <td>{'reputation': 13, 'user_id': 2490659, 'user_t...</td>\n",
       "      <td>False</td>\n",
       "      <td>0</td>\n",
       "      <td>1573458888</td>\n",
       "      <td>58796672</td>\n",
       "      <td>103875554</td>\n",
       "      <td>NaN</td>\n",
       "    </tr>\n",
       "  </tbody>\n",
       "</table>\n",
       "</div>"
      ],
      "text/plain": [
       "                                               owner  edited  score  \\\n",
       "0  {'reputation': 27430, 'user_id': 5836671, 'use...   False      0   \n",
       "1  {'reputation': 189176, 'user_id': 2711488, 'us...   False      0   \n",
       "2  {'reputation': 1460, 'user_id': 11945002, 'use...   False      0   \n",
       "3  {'reputation': 1, 'user_id': 12353737, 'user_t...   False      0   \n",
       "4  {'reputation': 13, 'user_id': 2490659, 'user_t...   False      0   \n",
       "\n",
       "   creation_date   post_id  comment_id  \\\n",
       "0     1573458894  58797398   103875558   \n",
       "1     1573458893  58785153   103875557   \n",
       "2     1573458893  58797163   103875556   \n",
       "3     1573458891  58796253   103875555   \n",
       "4     1573458888  58796672   103875554   \n",
       "\n",
       "                                       reply_to_user  \n",
       "0                                                NaN  \n",
       "1                                                NaN  \n",
       "2                                                NaN  \n",
       "3  {'reputation': 7961, 'user_id': 4710527, 'user...  \n",
       "4                                                NaN  "
      ]
     },
     "execution_count": 21,
     "metadata": {},
     "output_type": "execute_result"
    }
   ],
   "source": [
    "comments_df = pd.DataFrame(comments['items'])\n",
    "comments_df.head()"
   ]
  },
  {
   "cell_type": "code",
   "execution_count": 22,
   "metadata": {},
   "outputs": [
    {
     "data": {
      "text/plain": [
       "(500, 7)"
      ]
     },
     "execution_count": 22,
     "metadata": {},
     "output_type": "execute_result"
    }
   ],
   "source": [
    "comments_df.shape"
   ]
  },
  {
   "cell_type": "code",
   "execution_count": 22,
   "metadata": {},
   "outputs": [
    {
     "data": {
      "text/plain": [
       "owner            object\n",
       "edited             bool\n",
       "score             int64\n",
       "creation_date     int64\n",
       "post_id           int64\n",
       "comment_id        int64\n",
       "reply_to_user    object\n",
       "dtype: object"
      ]
     },
     "execution_count": 22,
     "metadata": {},
     "output_type": "execute_result"
    }
   ],
   "source": [
    "comments_df.dtypes"
   ]
  },
  {
   "cell_type": "code",
   "execution_count": 24,
   "metadata": {
    "scrolled": true
   },
   "outputs": [
    {
     "data": {
      "text/plain": [
       "{'reputation': 3231,\n",
       " 'user_id': 12031933,\n",
       " 'user_type': 'registered',\n",
       " 'profile_image': 'https://i.stack.imgur.com/TkXU7.jpg?s=128&g=1',\n",
       " 'display_name': 'Olivier Rogier',\n",
       " 'link': 'https://stackoverflow.com/users/12031933/olivier-rogier'}"
      ]
     },
     "execution_count": 24,
     "metadata": {},
     "output_type": "execute_result"
    }
   ],
   "source": [
    "comments_df.loc[0,'owner'] #Content of column owner"
   ]
  },
  {
   "cell_type": "code",
   "execution_count": 25,
   "metadata": {},
   "outputs": [],
   "source": [
    "comments_df['owner_user_id']=comments_df['owner'].apply(lambda x: x['user_id']) #extract user_id from the dictionary of owner"
   ]
  },
  {
   "cell_type": "code",
   "execution_count": 26,
   "metadata": {},
   "outputs": [
    {
     "data": {
      "text/html": [
       "<div>\n",
       "<style scoped>\n",
       "    .dataframe tbody tr th:only-of-type {\n",
       "        vertical-align: middle;\n",
       "    }\n",
       "\n",
       "    .dataframe tbody tr th {\n",
       "        vertical-align: top;\n",
       "    }\n",
       "\n",
       "    .dataframe thead th {\n",
       "        text-align: right;\n",
       "    }\n",
       "</style>\n",
       "<table border=\"1\" class=\"dataframe\">\n",
       "  <thead>\n",
       "    <tr style=\"text-align: right;\">\n",
       "      <th></th>\n",
       "      <th>owner</th>\n",
       "      <th>edited</th>\n",
       "      <th>score</th>\n",
       "      <th>creation_date</th>\n",
       "      <th>post_id</th>\n",
       "      <th>comment_id</th>\n",
       "      <th>reply_to_user</th>\n",
       "      <th>owner_user_id</th>\n",
       "    </tr>\n",
       "  </thead>\n",
       "  <tbody>\n",
       "    <tr>\n",
       "      <th>0</th>\n",
       "      <td>{'reputation': 3231, 'user_id': 12031933, 'use...</td>\n",
       "      <td>False</td>\n",
       "      <td>0</td>\n",
       "      <td>1573127962</td>\n",
       "      <td>58742216</td>\n",
       "      <td>103784993</td>\n",
       "      <td>NaN</td>\n",
       "      <td>12031933</td>\n",
       "    </tr>\n",
       "    <tr>\n",
       "      <th>1</th>\n",
       "      <td>{'reputation': 267670, 'user_id': 519413, 'use...</td>\n",
       "      <td>False</td>\n",
       "      <td>0</td>\n",
       "      <td>1573127961</td>\n",
       "      <td>58748261</td>\n",
       "      <td>103784992</td>\n",
       "      <td>NaN</td>\n",
       "      <td>519413</td>\n",
       "    </tr>\n",
       "    <tr>\n",
       "      <th>2</th>\n",
       "      <td>{'reputation': 1413, 'user_id': 5334486, 'user...</td>\n",
       "      <td>False</td>\n",
       "      <td>0</td>\n",
       "      <td>1573127960</td>\n",
       "      <td>58748236</td>\n",
       "      <td>103784991</td>\n",
       "      <td>NaN</td>\n",
       "      <td>5334486</td>\n",
       "    </tr>\n",
       "    <tr>\n",
       "      <th>3</th>\n",
       "      <td>{'reputation': 2531, 'user_id': 11841571, 'use...</td>\n",
       "      <td>False</td>\n",
       "      <td>0</td>\n",
       "      <td>1573127955</td>\n",
       "      <td>58723981</td>\n",
       "      <td>103784990</td>\n",
       "      <td>NaN</td>\n",
       "      <td>11841571</td>\n",
       "    </tr>\n",
       "    <tr>\n",
       "      <th>4</th>\n",
       "      <td>{'reputation': 340, 'user_id': 4441477, 'user_...</td>\n",
       "      <td>False</td>\n",
       "      <td>0</td>\n",
       "      <td>1573127954</td>\n",
       "      <td>58743859</td>\n",
       "      <td>103784989</td>\n",
       "      <td>{'reputation': 366, 'user_id': 12084800, 'user...</td>\n",
       "      <td>4441477</td>\n",
       "    </tr>\n",
       "  </tbody>\n",
       "</table>\n",
       "</div>"
      ],
      "text/plain": [
       "                                               owner  edited  score  \\\n",
       "0  {'reputation': 3231, 'user_id': 12031933, 'use...   False      0   \n",
       "1  {'reputation': 267670, 'user_id': 519413, 'use...   False      0   \n",
       "2  {'reputation': 1413, 'user_id': 5334486, 'user...   False      0   \n",
       "3  {'reputation': 2531, 'user_id': 11841571, 'use...   False      0   \n",
       "4  {'reputation': 340, 'user_id': 4441477, 'user_...   False      0   \n",
       "\n",
       "   creation_date   post_id  comment_id  \\\n",
       "0     1573127962  58742216   103784993   \n",
       "1     1573127961  58748261   103784992   \n",
       "2     1573127960  58748236   103784991   \n",
       "3     1573127955  58723981   103784990   \n",
       "4     1573127954  58743859   103784989   \n",
       "\n",
       "                                       reply_to_user  owner_user_id  \n",
       "0                                                NaN       12031933  \n",
       "1                                                NaN         519413  \n",
       "2                                                NaN        5334486  \n",
       "3                                                NaN       11841571  \n",
       "4  {'reputation': 366, 'user_id': 12084800, 'user...        4441477  "
      ]
     },
     "execution_count": 26,
     "metadata": {},
     "output_type": "execute_result"
    }
   ],
   "source": [
    "comments_df.head()"
   ]
  },
  {
   "cell_type": "markdown",
   "metadata": {},
   "source": [
    "#### Question 1: Find the questions and answers of last month."
   ]
  },
  {
   "cell_type": "code",
   "execution_count": 25,
   "metadata": {},
   "outputs": [
    {
     "ename": "TypeError",
     "evalue": "'module' object is not callable",
     "output_type": "error",
     "traceback": [
      "\u001b[0;31m---------------------------------------------------------------------------\u001b[0m",
      "\u001b[0;31mTypeError\u001b[0m                                 Traceback (most recent call last)",
      "\u001b[0;32m<ipython-input-25-bbb4aaa73281>\u001b[0m in \u001b[0;36m<module>\u001b[0;34m\u001b[0m\n\u001b[0;32m----> 1\u001b[0;31m \u001b[0mSITE\u001b[0m\u001b[0;34m.\u001b[0m\u001b[0mfetch\u001b[0m\u001b[0;34m(\u001b[0m\u001b[0;34m'answers'\u001b[0m\u001b[0;34m,\u001b[0m \u001b[0mfromdate\u001b[0m\u001b[0;34m=\u001b[0m\u001b[0mdatetime\u001b[0m\u001b[0;34m(\u001b[0m\u001b[0;36m2019\u001b[0m\u001b[0;34m,\u001b[0m\u001b[0;36m9\u001b[0m\u001b[0;34m,\u001b[0m\u001b[0;36m1\u001b[0m\u001b[0;34m)\u001b[0m\u001b[0;34m,\u001b[0m \u001b[0mtodate\u001b[0m\u001b[0;34m=\u001b[0m\u001b[0mdatetime\u001b[0m\u001b[0;34m(\u001b[0m\u001b[0;36m2019\u001b[0m\u001b[0;34m,\u001b[0m\u001b[0;36m9\u001b[0m\u001b[0;34m,\u001b[0m\u001b[0;36m31\u001b[0m\u001b[0;34m)\u001b[0m\u001b[0;34m)\u001b[0m\u001b[0;34m\u001b[0m\u001b[0;34m\u001b[0m\u001b[0m\n\u001b[0m",
      "\u001b[0;31mTypeError\u001b[0m: 'module' object is not callable"
     ]
    }
   ],
   "source": [
    "SITE.fetch('answers', fromdate=datetime(2019,9,1), todate=datetime(2019,9,31))"
   ]
  },
  {
   "cell_type": "code",
   "execution_count": null,
   "metadata": {},
   "outputs": [],
   "source": [
    ">>> users = SITE.fetch('users', fromdate=datetime(2011,02,27), todate=datetime(2011,02,28))"
   ]
  },
  {
   "cell_type": "markdown",
   "metadata": {},
   "source": [
    "#### Question 2: Find the most voted question today with at least a score of 5 and tagged with 'python'. "
   ]
  },
  {
   "cell_type": "code",
   "execution_count": null,
   "metadata": {},
   "outputs": [],
   "source": [
    "comments = SITE.fetch('comments', min=10, sort='votes')"
   ]
  },
  {
   "cell_type": "markdown",
   "metadata": {},
   "source": [
    "#### Question 3: Find the answers with id 6784 and 6473."
   ]
  },
  {
   "cell_type": "code",
   "execution_count": 4,
   "metadata": {},
   "outputs": [
    {
     "ename": "StackAPIError",
     "evalue": "('https://api.stackexchange.com/2.2//answers/comments/6784;6473/?pagesize=100&page=1&filter=default&site=stackoverflow', 404, 'no_method', 'no method found with this name')",
     "output_type": "error",
     "traceback": [
      "\u001b[0;31m---------------------------------------------------------------------------\u001b[0m",
      "\u001b[0;31mStackAPIError\u001b[0m                             Traceback (most recent call last)",
      "\u001b[0;32m<ipython-input-4-2640255d1f95>\u001b[0m in \u001b[0;36m<module>\u001b[0;34m\u001b[0m\n\u001b[0;32m----> 1\u001b[0;31m \u001b[0manswers\u001b[0m \u001b[0;34m=\u001b[0m \u001b[0mSITE\u001b[0m\u001b[0;34m.\u001b[0m\u001b[0mfetch\u001b[0m\u001b[0;34m(\u001b[0m\u001b[0;34m'/answers/comments'\u001b[0m\u001b[0;34m,\u001b[0m \u001b[0mids\u001b[0m\u001b[0;34m=\u001b[0m\u001b[0;34m[\u001b[0m\u001b[0;36m6784\u001b[0m\u001b[0;34m,\u001b[0m\u001b[0;36m6473\u001b[0m\u001b[0;34m]\u001b[0m\u001b[0;34m)\u001b[0m\u001b[0;34m\u001b[0m\u001b[0;34m\u001b[0m\u001b[0m\n\u001b[0m",
      "\u001b[0;32m/usr/local/lib/python3.7/site-packages/stackapi/stackapi.py\u001b[0m in \u001b[0;36mfetch\u001b[0;34m(self, endpoint, page, key, filter, **kwargs)\u001b[0m\n\u001b[1;32m    196\u001b[0m                 \u001b[0mcode\u001b[0m \u001b[0;34m=\u001b[0m \u001b[0mresponse\u001b[0m\u001b[0;34m[\u001b[0m\u001b[0;34m\"error_name\"\u001b[0m\u001b[0;34m]\u001b[0m\u001b[0;34m\u001b[0m\u001b[0;34m\u001b[0m\u001b[0m\n\u001b[1;32m    197\u001b[0m                 \u001b[0mmessage\u001b[0m \u001b[0;34m=\u001b[0m \u001b[0mresponse\u001b[0m\u001b[0;34m[\u001b[0m\u001b[0;34m\"error_message\"\u001b[0m\u001b[0;34m]\u001b[0m\u001b[0;34m\u001b[0m\u001b[0;34m\u001b[0m\u001b[0m\n\u001b[0;32m--> 198\u001b[0;31m                 \u001b[0;32mraise\u001b[0m \u001b[0mStackAPIError\u001b[0m\u001b[0;34m(\u001b[0m\u001b[0mself\u001b[0m\u001b[0;34m.\u001b[0m\u001b[0m_previous_call\u001b[0m\u001b[0;34m,\u001b[0m \u001b[0merror\u001b[0m\u001b[0;34m,\u001b[0m \u001b[0mcode\u001b[0m\u001b[0;34m,\u001b[0m \u001b[0mmessage\u001b[0m\u001b[0;34m)\u001b[0m\u001b[0;34m\u001b[0m\u001b[0;34m\u001b[0m\u001b[0m\n\u001b[0m\u001b[1;32m    199\u001b[0m             \u001b[0;32mexcept\u001b[0m \u001b[0mKeyError\u001b[0m\u001b[0;34m:\u001b[0m\u001b[0;34m\u001b[0m\u001b[0;34m\u001b[0m\u001b[0m\n\u001b[1;32m    200\u001b[0m                 \u001b[0;32mpass\u001b[0m  \u001b[0;31m# This means there is no error\u001b[0m\u001b[0;34m\u001b[0m\u001b[0;34m\u001b[0m\u001b[0m\n",
      "\u001b[0;31mStackAPIError\u001b[0m: ('https://api.stackexchange.com/2.2//answers/comments/6784;6473/?pagesize=100&page=1&filter=default&site=stackoverflow', 404, 'no_method', 'no method found with this name')"
     ]
    }
   ],
   "source": [
    "answers = SITE.fetch('/answers/comments', ids=[6784,6473])"
   ]
  },
  {
   "cell_type": "code",
   "execution_count": null,
   "metadata": {},
   "outputs": [],
   "source": []
  }
 ],
 "metadata": {
  "kernelspec": {
   "display_name": "Python 3",
   "language": "python",
   "name": "python3"
  },
  "language_info": {
   "codemirror_mode": {
    "name": "ipython",
    "version": 3
   },
   "file_extension": ".py",
   "mimetype": "text/x-python",
   "name": "python",
   "nbconvert_exporter": "python",
   "pygments_lexer": "ipython3",
   "version": "3.7.3"
  }
 },
 "nbformat": 4,
 "nbformat_minor": 2
}
